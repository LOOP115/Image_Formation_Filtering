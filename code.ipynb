{
 "cells": [
  {
   "cell_type": "markdown",
   "metadata": {},
   "source": [
    "## The University of Melbourne, School of Computing and Information Systems\n",
    "# COMP90086 Computer Vision, 2022 Semester 2\n",
    "\n",
    "## Assignment 1"
   ]
  },
  {
   "cell_type": "markdown",
   "metadata": {},
   "source": [
    "**Student Name:**    `Jiahao Chen`\n",
    "\n",
    "**Student ID:**     `1118749`"
   ]
  },
  {
   "cell_type": "markdown",
   "metadata": {},
   "source": [
    "This iPython notebook is a template which you should use for your Assignment 1 submission. This file should be submitted at the **Assignment 1** link on the LMS, along with any images needed to run your code.\n",
    "\n",
    "In addition to this file, you should submit a written report explaining your results at the **Assignment 1** link on the LMS. Please see the assignment specification for details on what must be included in the report for each question.\n",
    "\n",
    "*Adding proper comments to your code is MANDATORY.*"
   ]
  },
  {
   "cell_type": "markdown",
   "metadata": {},
   "source": [
    "### 1. Mapping between world and image coordinates\n",
    "Note: Writing code for this question is optional. However, if you do not include code here you *must* show your computation steps in your written report."
   ]
  },
  {
   "cell_type": "code",
   "execution_count": 1,
   "metadata": {},
   "outputs": [],
   "source": [
    "# Calculate the height of the whole scene in the real world\n",
    "\n",
    "# Height of imaging sensor\n",
    "yi = 16.32\n",
    "# Distance between camera and the scene\n",
    "z = 56.35 * 1000\n",
    "# Focal length of the camera\n",
    "f = 194\n",
    "\n",
    "# Pinhole projection\n",
    "# Height of scene\n",
    "y = yi / (f / z)"
   ]
  },
  {
   "cell_type": "code",
   "execution_count": 2,
   "metadata": {},
   "outputs": [
    {
     "name": "stdout",
     "output_type": "stream",
     "text": [
      "Height of statue: 3.12 m\n"
     ]
    }
   ],
   "source": [
    "# Calculate the height of the statue in the real world\n",
    "\n",
    "from PIL import Image\n",
    "\n",
    "path = \"images/Asst1_1_image.png\"\n",
    "statue_image = Image.open(path)\n",
    "pixels = statue_image.load()\n",
    "\n",
    "# Compute the proportion of height of the statue in the image\n",
    "limit = 3\n",
    "count = 0\n",
    "statue_red = []\n",
    "# Find the red lines in image which represent top and bottom of the statue\n",
    "for i in range(statue_image.width):\n",
    "    for j in range(statue_image.height):\n",
    "        if pixels[i, j] == (255, 0, 0):\n",
    "            statue_red.append(j)\n",
    "            count += 1\n",
    "        if count == limit:\n",
    "            break\n",
    "\n",
    "statue_ratio = (statue_red[2] - statue_red[0]) / statue_image.height\n",
    "print(f\"Height of statue: {round(y * statue_ratio / 1000, 2)} m\")"
   ]
  },
  {
   "cell_type": "markdown",
   "metadata": {},
   "source": [
    "### 2. Thinking with filters"
   ]
  },
  {
   "cell_type": "code",
   "execution_count": null,
   "metadata": {},
   "outputs": [],
   "source": []
  }
 ],
 "metadata": {
  "kernelspec": {
   "display_name": "Python 3 (ipykernel)",
   "language": "python",
   "name": "python3"
  },
  "language_info": {
   "codemirror_mode": {
    "name": "ipython",
    "version": 3
   },
   "file_extension": ".py",
   "mimetype": "text/x-python",
   "name": "python",
   "nbconvert_exporter": "python",
   "pygments_lexer": "ipython3",
   "version": "3.7.13"
  }
 },
 "nbformat": 4,
 "nbformat_minor": 4
}
